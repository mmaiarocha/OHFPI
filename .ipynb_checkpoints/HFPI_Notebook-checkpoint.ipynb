{
 "cells": [
  {
   "cell_type": "markdown",
   "metadata": {},
   "source": [
    "Federal University of Rio Grande do Sul (UFRGS)   \n",
    "Postgraduate Program in Civil Engineering (PPGEC)   \n",
    "Laboratório de Aerodinâmica das Construções (LAC)\n",
    "\n",
    "# OHFPI - Object Oriented High Frequency Pressure Integration \n",
    "_A Python Class for Wind Tunnel Data Processing_\n",
    "---\n",
    "\n",
    "_Prof. Marcelo M. Rocha, Dr.techn._ [(ORCID)](https://orcid.org/0000-0001-5640-1020)  \n",
    "_Prof. Acir M. Loredo-Souza._ (ORCID)\n",
    "\n",
    "_Porto Alegre, RS, Brazil_ \n"
   ]
  },
  {
   "cell_type": "markdown",
   "metadata": {},
   "source": [
    "## Table of contents   \n",
    "\n",
    "1. [Introduction and basic concepts](#section_1)  \n",
    "2. [Pressure data input](#section_2)  \n",
    "&nbsp;&nbsp;&nbsp;[2.1. The _Master Table_](#section_21)   \n",
    "&nbsp;&nbsp;&nbsp;[2.2. The _Batch Table_](#section_22)   \n",
    "&nbsp;&nbsp;&nbsp;[2.3. The _AllCases_ table](#section_23)   \n",
    "&nbsp;&nbsp;&nbsp;[2.4. Pressure data pre-processing](#section_24)   \n",
    "&nbsp;&nbsp;&nbsp;[2.5. Structural data input](#section_25)   \n",
    "&nbsp;&nbsp;&nbsp;[2.6. Examples of complete data input](#section_26)   \n",
    "3. [Basic usage of pressure data](#section_3)  \n"
   ]
  },
  {
   "cell_type": "code",
   "execution_count": 1,
   "metadata": {},
   "outputs": [],
   "source": [
    "# Importing Python modules required for this notebook\n",
    "# (this cell must be executed with \"shift+enter\" before any other Python cell)\n",
    "\n",
    "import numpy as np \n",
    "import pandas as pd\n",
    "import matplotlib.pyplot as plt\n",
    "\n",
    "# Module for multivariate random processes methods\n",
    "import MRPy \n",
    "\n",
    "# Class definitions for High Frequency Pressure Integration\n",
    "from   OHFPI import *  \n",
    "#print(AllCases)\n"
   ]
  },
  {
   "cell_type": "markdown",
   "metadata": {},
   "source": [
    "## 1. Introduction and basic concepts\n",
    "\n",
    "This Jupyter Notebook presents the use of ``OHFPI`` class module for processing the \n",
    "large amount of data from wind tunnel tests and from the building structural design, \n",
    "coupling the two datasets together for estimating the building dynamic response \n",
    "to wind action.\n",
    "\n",
    "The wind tunnel provides a directory with a set of raw files, one file per wind direction. \n",
    "The so-called _Master Table_ connects the pressure channels in each file to the \n",
    "corresponding pressure taps in the model. The _Master Table_ also provides further \n",
    "information for pressure integration over building surface, such as tap coordinates, \n",
    "tap normal direction and corresponding surface areas.\n",
    "\n",
    "On the other hand, the building designer provides information on the numerical model used \n",
    "for structural analysis. Nodal coordinates, nodal masses, natural frequencies of vibration \n",
    "and the respective modal shapes can be used to calculate the building response through \n",
    "modal superposition. \n",
    "\n",
    "The link between the wind tunnel pressure records and the structural model are the \n",
    "_modal forces_, which are calculated by projecting the aerodynamic forces on modal space. \n",
    "The modal responses are combined to yield the total structural response, from which \n",
    "static equivalent forces may be specified and provided back to building designer for \n",
    "accomplishing the structural design. \n",
    "\n",
    "The two examples used in this notebook are the CAARC standard tall building (E01, 180m height)\n",
    "and a concrete bell tower with a square cross section (E24, 130m height):\n",
    "\n",
    "<table style=\"width:100%\">\n",
    " <tr>\n",
    "    <td><img src=\"data/E01/E01_IS023_floor.png\" alt=\"CAARC section\" width=360/></td>\n",
    "    <td><img src=\"data/E24/E24_Conf1_floor.png\" alt=\"Tower section\" width=400/></td>\n",
    "  </tr>\n",
    " <tr>\n",
    "    <td>CAARC</td>\n",
    "    <td>Bell Tower</td>\n",
    " </tr>\n",
    "</table> \n",
    "\n",
    "These two examples are taken from the LAC/UFRGS database, with more than 30 buildings\n",
    "analysed with the HFPI technique. The figures above shows that the Python scripts must \n",
    "be able to deal with arbitrary definitions for the wind direction references. \n"
   ]
  },
  {
   "cell_type": "markdown",
   "metadata": {},
   "source": [
    "## 2. Data organization\n",
    "\n",
    "### 2.1 The _Master Table_\n",
    "\n",
    "Each wind tunnel bulding test provides a set of pressure (ASCII) files, each file \n",
    "associated with a wind direction. The tests make use of a rigid model instrumented \n",
    "with hundreds of pressure taps. The tunnel is configured according to a specified setup \n",
    "for both close field neighborhood and far field terrain roughness. The setup defines \n",
    "the wind turbulence reaching the model. A single building model may be tested for \n",
    "more than one setup.\n",
    "\n",
    "The pressure files must be pre-processed to become associated with model taps. \n",
    "The files give the instantaneous pressure at each channel in the data acquisition system. \n",
    "To link the channels to pressure taps a _Master Table_ must provide the complete mapping. \n",
    "The _Master Table_ has one line for each tap, plus two lines for the reference pressures \n",
    "$A_1$ and $A_2$ (related to the instantaneous velocity in the tunnel). \n",
    "The table columns bring all required tap information, as described bellow.\n",
    "\n",
    "<img src=\"resources/Master Table.png\" alt=\"Master Table\" width=640/>\n",
    "\n",
    "The format above provides the possibility of assign not only one, but two channels to \n",
    "each pressure tap, what can be used to build a _virtual tap_, defined as the mean \n",
    "value between two adjacent taps. When this feature is not required (as it is usually \n",
    "the case) the information in columns (2) and (3) are simply repeated.\n",
    "\n",
    "The reference pressures $A_1$ and $A_2$ are identified by setting $-1$ and $-2$ \n",
    "in column (6), respectivelly. For these two channels, further columns are not used \n",
    "and may be filled with zeros.\n",
    "\n",
    "The measurement phase in column (7) is required whenever tap pressures are not to be simultaneously recorded. In this case, data assembling is performed by combining \n",
    "two or more pressure file sets. This is seldomly required for buildings, but may be \n",
    "necessary when testing, for instance, a large stadium roofing for mean pressure\n",
    "coefficients. Most commonly, column (7) is simply filled with 1's.\n"
   ]
  },
  {
   "cell_type": "markdown",
   "metadata": {},
   "source": [
    "### 2.2 The _Batch Table_\n",
    "\n",
    "Each pressure acquisition is carried out with a given setup and results in a ASCII datafile, \n",
    "which must be associated to a set of experimental parameters. \n",
    "This association is informed in the _Batch Table_, also provided as an ASCII file with \n",
    "one line per pressure acquisition. \n",
    "The columns in this table contains information as described bellow.\n",
    "\n",
    "<img src=\"resources/Batch Table.png\" alt=\"Batch Table\" width=640/>\n",
    "\n",
    "A wind tunnel test (set of pressure acquisitions) may have more than one _Master Table_ if, \n",
    "for instance, tap connections had to be changed between acquisitions. \n",
    "The terrain roughness category may be a decimal number, what implies that wind profile \n",
    "will be interpolated accordingly. \n",
    "The terrain category may change with the wind direction. It is used to define the \n",
    "(prototype scale) dynamic pressure at building top.\n",
    "\n",
    "A further parameter associated with each acquisition is the reference pressure:\n",
    "\n",
    "$$\\Delta P_{\\rm a} = \\beta k_0 \\left(A_1 - A_2 \\right) $$\n",
    "\n",
    "where $\\beta$ is the blockage factor and $k_0$ is a wind tunnel calibration constant \n",
    "associated to  the building model height and the imposed far field turbulence.\n",
    "\n",
    "This reference pressure, $\\Delta P_{\\rm a}$, is internally calculated and appended \n",
    "to each line in the _Batch Table_, so that it is readly available for calculating\n",
    "the non dimensional pressure coefficients.\n"
   ]
  },
  {
   "cell_type": "markdown",
   "metadata": {},
   "source": [
    "### 2.3 The _AllCases Table_\n",
    "\n",
    "The _AllCases Table_ is ``.xlsx`` spreadsheet to be read with ``pandas`` module,\n",
    "containing general information about the complete dataset (all wind direction), with\n",
    "one building dataset per line.\n",
    "The table brings general information such as the model length scale, the overall \n",
    "building dimensions and some ocasionally required coordinates offset.\n",
    "The availability of this table was motivated by the eventual need of iterating over\n",
    "all wind tunnel data bank, for the purpose of research on general aerodynamic properties.\n",
    "\n",
    "<img src=\"resources/AllCases Table.png\" alt=\"AllCases Table\" width=640/>\n",
    "\n",
    "The coordinates offset to be applied to structural models are quite often required, for\n",
    "only seldomly the building designer provides numerical model information matching the\n",
    "reference system adopted in the wind tunnel.\n"
   ]
  },
  {
   "cell_type": "markdown",
   "metadata": {},
   "source": [
    "### 2.4. Pressure data pre-processing\n",
    "\n",
    "Both the _Master Table_ and the _Batch Table_ must be provided for processing each \n",
    "pressure dataset, what is handled by the module function ``scanivalve_process()``. \n",
    "The general function usage is:\n",
    "\n",
    "    batch = scanivalve_process(path, prefix, dwnd=0, avg=1, per=64*32)\n",
    "\n",
    "where ``path`` is a string with the relative path to the building data directory, \n",
    "``prefix`` is a string with a code for the building test setup, to be used for \n",
    "completing the path to the dataset directory. This two parts addressing organizes \n",
    "the data in case the building is tested for several setups (what is usually the case).\n",
    "\n",
    "The parameter ``dwnd`` is used to specify whether the wind direction is depicted \n",
    "coincident with the positive or negative $x$ axis direction in the coordinates\n",
    "reference system. The ``avg`` and ``per`` are acquisition parameters used in the\n",
    "Scanivalve system available at the LAC/UFRGS wind tunnel.\n",
    "\n",
    "The function ``scanivalve_process()`` is called internally by the ``OHFPI`` class\n",
    "constructor along with with the methods for structural data input, as described in\n",
    "the next section.\n"
   ]
  },
  {
   "cell_type": "markdown",
   "metadata": {},
   "source": [
    "### 2.5. Structural data input"
   ]
  },
  {
   "cell_type": "markdown",
   "metadata": {},
   "source": [
    "### 2.6. Examples of complete data input \n",
    "\n",
    "Once all datafiles and guiding tables are made available, the data input is fully \n",
    "abstracted in the ``OHFPI`` class constructor. \n",
    "This is demonstrated below for the two datasets used as examples in this notebook.\n"
   ]
  },
  {
   "cell_type": "code",
   "execution_count": 2,
   "metadata": {},
   "outputs": [],
   "source": [
    "# CAARC Standard Tall Building\n",
    "path   = 'data/E01/'  # path to building data\n",
    "prefix = 'E01_IS023'  # setup code, subpath to dataset\n",
    "\n",
    "E01    =  OHFPI(path, prefix, stype='3dof')\n",
    "\n",
    "# Reinforced concrete bell tower\n",
    "path   = 'data/E24/'\n",
    "prefix = 'E24_Conf1' \n",
    "\n",
    "E24    =  OHFPI(path, prefix, stype='TQS')\n"
   ]
  },
  {
   "cell_type": "markdown",
   "metadata": {},
   "source": [
    "A very important feature of ``OHFPI`` instances is the method ``batchIter()``,\n",
    "which iterates over all wind directions available in the dataset, as exemplified below:\n"
   ]
  },
  {
   "cell_type": "code",
   "execution_count": 3,
   "metadata": {},
   "outputs": [
    {
     "name": "stdout",
     "output_type": "stream",
     "text": [
      "Direction: 000\n",
      "Category:  4.0\n",
      "WT speed:  24.75m/s\n",
      "dPa:       36.97Pa\n",
      "Td:        16.78s \n",
      "\n"
     ]
    }
   ],
   "source": [
    "for kb, b, master, Cp in E24.batchIter():\n",
    "\n",
    "    if (b['swnd'] != '000'): continue  # choose which wind direction is to be displayed\n",
    "    else:\n",
    "        print('Direction: {0}'.format(b['swnd']))\n",
    "        print('Category:  {0:3.1f}'.format(b['categ']))\n",
    "        print('WT speed:  {0:3.2f}m/s'.format(b['Vm']))\n",
    "        print('dPa:       {0:3.2f}Pa'.format(b['dPa']))\n",
    "        print('Td:        {0:3.2f}s'.format(b['Td']),'\\n')\n"
   ]
  },
  {
   "cell_type": "markdown",
   "metadata": {},
   "source": [
    "It is shown above that the iterator returns:\n",
    "\n",
    "* item order ``kb``, \n",
    "* the batch table entry ``b`` (with the reference pressure, $\\Delta P_{\\rm a}$, \n",
    "  and the test duration, $T_{\\rm d}$, appended)\n",
    "* the corresponding _Master Table_ (which may be changed for some wind directions), and\n",
    "* a matrix, ``Cp``, with the pressure readings, one column for each tap, one row for\n",
    "  each time step.\n",
    "\n",
    "In the example above, the item property ``swnd`` is used as a selection criteria\n",
    "to display some data for a chosen wind direction only.\n",
    "\n",
    "After all the data input and pressure pre-processing, the dataset is ready to be iterated\n",
    "and used for structural loading and response calculations.\n"
   ]
  },
  {
   "cell_type": "markdown",
   "metadata": {},
   "source": [
    "## 3. Basic usage of pressure data\n",
    "\n",
    "\n",
    "\n"
   ]
  },
  {
   "cell_type": "code",
   "execution_count": 4,
   "metadata": {},
   "outputs": [
    {
     "data": {
      "text/plain": [
       "[0, 360, -0.2, 0.2]"
      ]
     },
     "execution_count": 4,
     "metadata": {},
     "output_type": "execute_result"
    },
    {
     "data": {
      "image/png": "[encoded data removed]",
      "text/plain": [
       "<Figure size 864x288 with 3 Axes>"
      ]
     },
     "metadata": {
      "needs_background": "light"
     },
     "output_type": "display_data"
    }
   ],
   "source": [
    "Cx, Cy, Ct, Cm, Cs = E01.aerocoeffs()\n",
    "\n",
    "wnd = np.array(E01.batch.swnd.astype('int'))\n",
    "\n",
    "plt.figure(1, figsize=(12,4))\n",
    "\n",
    "plt.subplot(1,3,1); plt.plot(wnd,Cm[0]); plt.grid(True); plt.axis([0, 360, -1.5, 1.5])\n",
    "plt.subplot(1,3,2); plt.plot(wnd,Cm[1]); plt.grid(True); plt.axis([0, 360, -1.5, 1.5])\n",
    "plt.subplot(1,3,3); plt.plot(wnd,Cm[2]); plt.grid(True); plt.axis([0, 360, -0.2, 0.2])\n"
   ]
  },
  {
   "cell_type": "code",
   "execution_count": 5,
   "metadata": {},
   "outputs": [
    {
     "data": {
      "text/plain": [
       "[0, 360, -0.2, 0.2]"
      ]
     },
     "execution_count": 5,
     "metadata": {},
     "output_type": "execute_result"
    },
    {
     "data": {
      "image/png": "[encoded data removed]",
      "text/plain": [
       "<Figure size 864x288 with 3 Axes>"
      ]
     },
     "metadata": {
      "needs_background": "light"
     },
     "output_type": "display_data"
    }
   ],
   "source": [
    "Cx, Cy, Ct, Cm, Cs = E24.aerocoeffs()\n",
    "\n",
    "wnd = np.array(E24.batch.swnd.astype('int'))\n",
    "\n",
    "plt.figure(1, figsize=(12,4))\n",
    "\n",
    "plt.subplot(1,3,1); plt.plot(wnd,Cm[0]); plt.grid(True); plt.axis([0, 360, -1.5, 1.5])\n",
    "plt.subplot(1,3,2); plt.plot(wnd,Cm[1]); plt.grid(True); plt.axis([0, 360, -1.5, 1.5])\n",
    "plt.subplot(1,3,3); plt.plot(wnd,Cm[2]); plt.grid(True); plt.axis([0, 360, -0.2, 0.2])\n"
   ]
  },
  {
   "cell_type": "code",
   "execution_count": null,
   "metadata": {},
   "outputs": [],
   "source": []
  }
 ],
 "metadata": {
  "kernelspec": {
   "display_name": "Python 3",
   "language": "python",
   "name": "python3"
  },
  "language_info": {
   "codemirror_mode": {
    "name": "ipython",
    "version": 3
   },
   "file_extension": ".py",
   "mimetype": "text/x-python",
   "name": "python",
   "nbconvert_exporter": "python",
   "pygments_lexer": "ipython3",
   "version": "3.7.1"
  }
 },
 "nbformat": 4,
 "nbformat_minor": 1
}
