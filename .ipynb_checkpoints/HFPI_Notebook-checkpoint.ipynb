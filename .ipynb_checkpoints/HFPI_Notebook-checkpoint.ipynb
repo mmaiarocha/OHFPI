{
 "cells": [
  {
   "cell_type": "markdown",
   "metadata": {},
   "source": [
    "Federal University of Rio Grande do Sul (UFRGS)   \n",
    "Postgraduate Program in Civil Engineering (PPGEC)   \n",
    "Laboratório de Aerodinâmica das Construções (LAC)\n",
    "\n",
    "# OHFPI - Object Oriented High Frequency Pressure Integration \n",
    "_A Python Class for Wind Tunnel Data Processing_\n",
    "---\n",
    "\n",
    "_Prof. Marcelo M. Rocha, Dr.techn._ [(ORCID)](https://orcid.org/0000-0001-5640-1020)  \n",
    "_Prof. Acir M. Loredo-Souza._ (ORCID)\n",
    "\n",
    "_Porto Alegre, RS, Brazil_ \n"
   ]
  },
  {
   "cell_type": "markdown",
   "metadata": {},
   "source": [
    "## Table of contents   \n",
    "\n",
    "1. [Introduction and basic concepts](#section_1)  \n",
    "2. [Data organization](#section_2)  \n",
    "&nbsp;&nbsp;&nbsp;[2.1. The _Master Table_](#section_21)   \n",
    "&nbsp;&nbsp;&nbsp;[2.2. The _Batch Table_](#section_22)   \n",
    "&nbsp;&nbsp;&nbsp;[2.3. The _AllCases_ table](#section_23)   \n",
    "&nbsp;&nbsp;&nbsp;[2.4. Pressure data pre-processing](#section_24)   \n"
   ]
  },
  {
   "cell_type": "code",
   "execution_count": 1,
   "metadata": {},
   "outputs": [],
   "source": [
    "# Importing Python modules required for this notebook\n",
    "# (this cell must be executed with \"shift+enter\" before any other Python cell)\n",
    "\n",
    "import numpy as np \n",
    "import pandas as pd\n",
    "import matplotlib.pyplot as plt\n",
    "\n",
    "# Module for multivariate random processes methods\n",
    "import MRPy \n",
    "\n",
    "# Class definitions for High Frequency Pressure Integration\n",
    "from   OHFPI import *  \n",
    "# print(AllCases)\n"
   ]
  },
  {
   "cell_type": "markdown",
   "metadata": {},
   "source": [
    "## 1. Introduction and basic concepts\n",
    "\n",
    "This Jupyter Notebook presents the use of HFPI module, exemplifying how the large amount of data from wind tunnel tests and from the building structural design are brought together to yield the building dynamic response to wind action.\n",
    "\n",
    "The Wind Tunnel provides a directory with a set of Scanivalve files, one file per wind direction. The so-called _Master Table_ connects the Scanivalve channels in each file to the corresponding pressure taps in the model. The _Master Table_ also provides further information for pressure integration over building surface. \n",
    "\n",
    "The building designer provides information from the numerical model used for structural analysis. Nodal coordinates, nodal masses, natural frequencies of vibration and the respective modal shapes are used to calculate the building response through modal superposition. \n",
    "\n",
    "The link between wind tunnel and structural model are the modal forces, which are obtained by projecting the aerodynamic forces on modal space. The modal responses are finally combined to yield the total response, from which static equivalent forces may be specified and provided to building designer for accomplishing the structural design. \n",
    "\n",
    "The example carried on in this notebook is the CAARC standard tall building. \n"
   ]
  },
  {
   "cell_type": "markdown",
   "metadata": {},
   "source": [
    "## 2. Data organization\n",
    "\n",
    "### 2.1 The _Master Table_\n",
    "\n",
    "Each Wind Tunnel test results in a set of Scanivalve (ASCII) files, each file associated with a wind direction. The tests make use of a rigid model instrumented with hundreds of pressure taps. The tunnel is configured according to a specified setup for both close field neighborhood and far field terrain roughness. The setup defines the wind turbulence reaching the model. A single building model may be tested for more than on setup.\n",
    "\n",
    "The Scanivalve files must be preprocessed to become associated with model taps. The files give the instantaneous pressure at each channel in the data acquisition system. To link the channels to pressure taps a _Master Table_ must provide the complete mapping. The _Master Table_ has one line for each tap, plus two lines for the reference pressures $A_1$ and $A_2$ (related to the instantaneous velocity in the tunnel). The table columns bring all required tap information, as described bellow.\n",
    "\n",
    "<img src=\"resources/Master Table.png\" alt=\"Master Table\"/>\n",
    "\n",
    "The format above provides the possibility of assign not only one, but two channels to each pressure tap, what can be used to build a _virtual tap_, defined as the mean value between two adjacent taps. When this feature is not required (as it is usually the case) the information in columns (2) and (3) must be repeated.\n",
    "\n",
    "The reference pressures $A_1$ and $A_2$ are identified by setting $-1$ and $-2$ in column (6), respectivelly. For these two channels, further columns are not used and may be filled with zeros.\n",
    "\n",
    "The measurement phase in column (7) is required whenever tap pressures are not to be simultaneously recorded. In this case, data assembling is performed by combining two or more Scanivalve file sets. This is seldomly required for buildings, but may be necessary when testing, for instance, a large stadium roofing. Usually column (7) will be filled with 1's.\n"
   ]
  },
  {
   "cell_type": "markdown",
   "metadata": {},
   "source": [
    "### 2.2 The _Batch Table_\n",
    "\n",
    "Each Scanivalve acquisition is carried out with a given setup and results in a file, which must be associated to experimental parameters. This association is informed in the _Batch Table_, given as an ASCII file with one line per acquisition. The columns in this table contains the information as described bellow.\n",
    "\n",
    "<img src=\"resources/Batch Table.png\" alt=\"Batch Table\"/>\n",
    "\n",
    "A wind tunnel test (set of Scanivalve acquisitions) may have more than one _Master Table_ if, for instance, tap connections had to be changed between acquisitions. The terrain roughness category may be a decimal number, what implies that wind profile will be interpolated accordingly. The category may change with the wind direction, and is used to define the (prototype scale) dynamic pressure at building top.\n",
    "\n",
    "A further parameter associated with each acquisition is the $\\Delta Pa = A_1 - A_2$ pressure, used along with the blockage factor in the calculation of the (nondimensional) pressure coefficients. This parameter will be internally appended to each line in the Batch Table, and will be available after post-processing.\n"
   ]
  },
  {
   "cell_type": "markdown",
   "metadata": {},
   "source": [
    "### 2.3 The _AllCases.xlsx_ table\n",
    "\n"
   ]
  },
  {
   "cell_type": "markdown",
   "metadata": {},
   "source": [
    "### 2.4. Pressure data pre-processing\n",
    "\n",
    "Both the _Master Table_ and the _Batch Table_ may be provided for processing each Scanivalve data set, what is handled by the module function \"**scanivalve_process()**\". \n",
    "To demonstrate the use of this function, we firstly define the paths for the requided files and data:\n"
   ]
  },
  {
   "cell_type": "code",
   "execution_count": 15,
   "metadata": {},
   "outputs": [
    {
     "name": "stdout",
     "output_type": "stream",
     "text": [
      "   swnd  categ    Vm        dPa         Td\n",
      "0   000    3.5  26.0  40.814218  16.777216\n",
      "1   015    3.5  26.0  40.741373  16.777216\n",
      "2   030    3.5  26.0  40.536349  16.777216\n",
      "3   045    3.5  26.0  40.349110  16.777216\n",
      "4   060    3.5  26.0  40.284105  16.777216\n",
      "5   075    3.5  26.0  40.199798  16.777216\n",
      "6   090    3.5  26.0  40.069319  16.777216\n",
      "7   105    3.5  26.0  40.430500  16.777216\n",
      "8   120    3.5  26.0  40.406538  16.777216\n",
      "9   135    3.5  26.0  40.381777  16.777216\n",
      "10  150    3.5  26.0  40.583717  16.777216\n",
      "11  165    3.5  26.0  40.739416  16.777216\n",
      "12  180    3.5  26.0  41.249351  16.777216\n",
      "13  195    3.5  26.0  41.104182  16.777216\n",
      "14  210    3.5  26.0  40.814472  16.777216\n",
      "15  213    3.5  26.0  40.645872  16.777216\n",
      "16  225    3.5  26.0  40.498357  16.777216\n",
      "17  240    3.5  26.0  40.427897  16.777216\n",
      "18  255    3.5  26.0  40.322808  16.777216\n",
      "19  270    3.5  26.0  40.102124  16.777216\n",
      "20  285    3.5  26.0  40.446695  16.777216\n",
      "21  300    3.5  26.0  40.447873  16.777216\n",
      "22  315    3.5  26.0  40.429442  16.777216\n",
      "23  330    3.5  26.0  40.562859  16.777216\n",
      "24  345    3.5  26.0  40.770433  16.777216\n"
     ]
    }
   ],
   "source": [
    "path   = 'data/E01/'  # path to Scanivalve files\n",
    "prefix = 'E01_IS023'  # subfolder name (also to build names for working files)\n",
    "\n",
    "E01    =  OHFPI(path, prefix, stype='3dof')\n",
    "\n",
    "print(E01.batch)"
   ]
  },
  {
   "cell_type": "markdown",
   "metadata": {},
   "source": [
    "and then call the processing function:\n",
    "\n",
    "    batch = scanivalve_process(path, prefix, dwnd=0, avg=1, per=64*32)\n"
   ]
  },
  {
   "cell_type": "markdown",
   "metadata": {},
   "source": [
    "The function processes the dataset according to the instructions in the _Batch Table_, which is provided as an ASCII file \"E01_IS023_Batch.txt\". \n",
    "\n",
    "The function returns the dictionary \"batch\", where the keys are the wind directions available. Let us take a look at it's content by iterating over the dictionary values:\n"
   ]
  },
  {
   "cell_type": "code",
   "execution_count": 26,
   "metadata": {},
   "outputs": [
    {
     "name": "stdout",
     "output_type": "stream",
     "text": [
      "Direction: 000\n",
      "Category:  3.50\n",
      "V model:   26.00m/s\n",
      "dPa:       40.81Pa\n",
      "Td:        16.78s \n",
      "\n"
     ]
    }
   ],
   "source": [
    "for ib, b in E01.batch.iterrows():\n",
    "\n",
    "    if (ib != 0): continue  # choose which tests are to be displayed\n",
    "    else:\n",
    "        print('Direction: {0}'.format(b['swnd']))\n",
    "        print('Category:  {0:3.2f}'.format(b['categ']))\n",
    "        print('V model:   {0:3.2f}m/s'.format(b['Vm']))\n",
    "        print('dPa:       {0:3.2f}Pa'.format(b['dPa']))\n",
    "        print('Td:        {0:3.2f}s'.format(b['Td']),'\\n')\n"
   ]
  },
  {
   "cell_type": "markdown",
   "metadata": {},
   "source": [
    "Observe that iterations are easily made over all wind directions."
   ]
  },
  {
   "cell_type": "markdown",
   "metadata": {},
   "source": [
    "## 3. Making direct used of processed pressure data\n",
    "\n",
    "---"
   ]
  },
  {
   "cell_type": "markdown",
   "metadata": {},
   "source": [
    "To illustrate the use of the processed data files, let us specify a wind direction and a tap ID.\n",
    "For instance, let us take wind direction equal to 60 degrees, and tap ID = 20:"
   ]
  },
  {
   "cell_type": "code",
   "execution_count": 27,
   "metadata": {},
   "outputs": [],
   "source": [
    "wnd = 60\n",
    "tap = 20\n"
   ]
  },
  {
   "cell_type": "markdown",
   "metadata": {},
   "source": [
    "The pressure data can be loaded from the zipped pickle file with the following command: "
   ]
  },
  {
   "cell_type": "code",
   "execution_count": 29,
   "metadata": {},
   "outputs": [
    {
     "ename": "NameError",
     "evalue": "name 'get_taps' is not defined",
     "output_type": "error",
     "traceback": [
      "\u001b[0;31m---------------------------------------------------------------------------\u001b[0m",
      "\u001b[0;31mNameError\u001b[0m                                 Traceback (most recent call last)",
      "\u001b[0;32m<ipython-input-29-58abde833b17>\u001b[0m in \u001b[0;36m<module>\u001b[0;34m\u001b[0m\n\u001b[0;32m----> 1\u001b[0;31m \u001b[0mZ\u001b[0m\u001b[0;34m,\u001b[0m \u001b[0mX\u001b[0m\u001b[0;34m,\u001b[0m \u001b[0mA\u001b[0m\u001b[0;34m,\u001b[0m \u001b[0mC\u001b[0m \u001b[0;34m=\u001b[0m \u001b[0mget_taps\u001b[0m\u001b[0;34m(\u001b[0m\u001b[0mbatch\u001b[0m\u001b[0;34m,\u001b[0m \u001b[0mwnd\u001b[0m\u001b[0;34m)\u001b[0m\u001b[0;34m\u001b[0m\u001b[0;34m\u001b[0m\u001b[0m\n\u001b[0m",
      "\u001b[0;31mNameError\u001b[0m: name 'get_taps' is not defined"
     ]
    }
   ],
   "source": [
    "Z, X, A, C = get_taps(batch, wnd)"
   ]
  },
  {
   "cell_type": "markdown",
   "metadata": {},
   "source": [
    "where the returned variables contains the following data:\n",
    "\n",
    "* \"Z\": the pressure zone to which the tap belongs, to be used for partial integration\n",
    "* \"X\": the tap coordinates (in the wind tunnel reference system)\n",
    "* \"A\": the tap integration area, projected the three directions\n",
    "* \"C\": the pressure coefficient as a time series\n",
    "\n",
    "To access the corresponding information for a specified tap, the tap ID is used as a key for the above dictionaries. For instance, to plot the pressure coeficiente as a time history:\n"
   ]
  },
  {
   "cell_type": "code",
   "execution_count": null,
   "metadata": {},
   "outputs": [],
   "source": [
    "m  = len(C.keys())      # number of taps\n",
    "n  = len(C[tap])        # number of time steps\n",
    "\n",
    "T  = batch[wnd]['T']    \n",
    "t  = np.linspace(0,T,n)\n",
    "\n",
    "plt.plot(t,C[tap],'b');\n",
    "\n",
    "plt.axis([0, T, -2, +1])\n",
    "plt.title(r'$\\alpha$ = {0}deg  @  Tap = {1}'.format(wnd, tap), size=14)    \n",
    "plt.xlabel('Time (s)', size=14)\n",
    "plt.ylabel('Pressure coeff. (nondim)', size=14)\n",
    "plt.grid(True);\n"
   ]
  },
  {
   "cell_type": "markdown",
   "metadata": {},
   "source": [
    "If the mean value and standard deviation in all taps are required, an iteration over the key is carried on:"
   ]
  },
  {
   "cell_type": "code",
   "execution_count": null,
   "metadata": {},
   "outputs": [],
   "source": [
    "mp = np.empty((m,))                # initialize mean and standard deviation...\n",
    "sp = np.empty((m,))                # ... as Numpy Arrays.\n",
    "tp = np.empty((m,))\n",
    "\n",
    "for ii, tap in enumerate(C):       # use enumeration to address Numpy array...\n",
    "    tp[ii] = tap                   # ... but data is collected unsorted.\n",
    "    mp[ii] = np.mean(C[tap],0)\n",
    "    sp[ii] = np.std( C[tap],0)\n",
    "\n",
    "kk = np.argsort(tp)                # sort all collected data\n",
    "\n",
    "plt.plot(tp[kk], mp[kk], 'b')      # plot sorted (otherwise it'd be a mess).\n",
    "plt.plot(tp[kk], sp[kk], 'r')\n",
    "\n",
    "plt.axis([0, m, -1, +1.5])\n",
    "plt.title(batch[wnd]['file'], size=14)    \n",
    "plt.legend((r'mean $C_p$', r'r.m.s. $C_p$'))\n",
    "plt.xlabel('Tap ID', size=14)\n",
    "plt.ylabel('Pressure coeff. (nondim)', size=14)\n",
    "plt.grid(True);\n"
   ]
  },
  {
   "cell_type": "markdown",
   "metadata": {},
   "source": [
    "The Python code above is also an example on how to collect any ordered property from data."
   ]
  },
  {
   "cell_type": "markdown",
   "metadata": {},
   "source": [
    "## 4. Linking pressure data to structural model\n",
    "\n",
    "---"
   ]
  },
  {
   "cell_type": "markdown",
   "metadata": {},
   "source": [
    "Reading structural data:"
   ]
  },
  {
   "cell_type": "code",
   "execution_count": null,
   "metadata": {},
   "outputs": [],
   "source": [
    "mass  =  dirname + 'E01_Masses'\n",
    "freq  =  dirname + 'E01_Frequencies'\n",
    "mode  =  dirname + 'E01_Modes'\n",
    "strc  =  dirname + 'E01_Structure'\n",
    "\n",
    "Si, ZS, MS, fk, QS = HFPI.read_singlecolumn(mass, freq, mode, strc)\n"
   ]
  },
  {
   "cell_type": "markdown",
   "metadata": {},
   "source": [
    "Visualizing modal shapes"
   ]
  },
  {
   "cell_type": "code",
   "execution_count": null,
   "metadata": {},
   "outputs": [],
   "source": [
    "B   =  45.      # building accross wind dimension\n",
    "D   =  30.      # building along wind dimension\n",
    "H   =  180.     # building top height (from surface)\n",
    "sc  =  50000.   # scaling for modes visualization\n",
    "\n",
    "fig = plt.figure(figsize=(6,20))\n",
    "HFPI.view_singlecolumn(fig, B, D, H, ZS, fk, QS, sc)\n"
   ]
  },
  {
   "cell_type": "code",
   "execution_count": null,
   "metadata": {},
   "outputs": [],
   "source": []
  }
 ],
 "metadata": {
  "kernelspec": {
   "display_name": "Python 3",
   "language": "python",
   "name": "python3"
  },
  "language_info": {
   "codemirror_mode": {
    "name": "ipython",
    "version": 3
   },
   "file_extension": ".py",
   "mimetype": "text/x-python",
   "name": "python",
   "nbconvert_exporter": "python",
   "pygments_lexer": "ipython3",
   "version": "3.7.1"
  }
 },
 "nbformat": 4,
 "nbformat_minor": 1
}
